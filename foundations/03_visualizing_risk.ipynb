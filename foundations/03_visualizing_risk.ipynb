{
 "cells": [
  {
   "cell_type": "code",
   "execution_count": 3,
   "id": "9e9ddf18",
   "metadata": {},
   "outputs": [
    {
     "name": "stderr",
     "output_type": "stream",
     "text": [
      "/Users/pranavbattini/Desktop/quant-finance-progs/foundations/market_data.py:38: FutureWarning: YF.download() has changed argument auto_adjust default to True\n",
      "  df = cast(pd.DataFrame, yf.download(ticker, start=start, end=end))\n",
      "[*********************100%***********************]  1 of 1 completed\n"
     ]
    }
   ],
   "source": [
    "from market_data import load_yfinance\n",
    "\n",
    "df = load_yfinance(\"AAPL\", \"2020-1-1\", \"2025-1-1\")"
   ]
  },
  {
   "cell_type": "code",
   "execution_count": 4,
   "id": "a28bd5cc",
   "metadata": {},
   "outputs": [
    {
     "data": {
      "text/html": [
       "<div>\n",
       "<style scoped>\n",
       "    .dataframe tbody tr th:only-of-type {\n",
       "        vertical-align: middle;\n",
       "    }\n",
       "\n",
       "    .dataframe tbody tr th {\n",
       "        vertical-align: top;\n",
       "    }\n",
       "\n",
       "    .dataframe thead tr th {\n",
       "        text-align: left;\n",
       "    }\n",
       "\n",
       "    .dataframe thead tr:last-of-type th {\n",
       "        text-align: right;\n",
       "    }\n",
       "</style>\n",
       "<table border=\"1\" class=\"dataframe\">\n",
       "  <thead>\n",
       "    <tr>\n",
       "      <th>Price</th>\n",
       "      <th>Close</th>\n",
       "      <th>High</th>\n",
       "      <th>Low</th>\n",
       "      <th>Open</th>\n",
       "      <th>Volume</th>\n",
       "    </tr>\n",
       "    <tr>\n",
       "      <th>Ticker</th>\n",
       "      <th>AAPL</th>\n",
       "      <th>AAPL</th>\n",
       "      <th>AAPL</th>\n",
       "      <th>AAPL</th>\n",
       "      <th>AAPL</th>\n",
       "    </tr>\n",
       "    <tr>\n",
       "      <th>Date</th>\n",
       "      <th></th>\n",
       "      <th></th>\n",
       "      <th></th>\n",
       "      <th></th>\n",
       "      <th></th>\n",
       "    </tr>\n",
       "  </thead>\n",
       "  <tbody>\n",
       "    <tr>\n",
       "      <th>2020-01-02</th>\n",
       "      <td>72.620842</td>\n",
       "      <td>72.681289</td>\n",
       "      <td>71.373218</td>\n",
       "      <td>71.627092</td>\n",
       "      <td>135480400</td>\n",
       "    </tr>\n",
       "    <tr>\n",
       "      <th>2020-01-03</th>\n",
       "      <td>71.914833</td>\n",
       "      <td>72.676462</td>\n",
       "      <td>71.689973</td>\n",
       "      <td>71.847133</td>\n",
       "      <td>146322800</td>\n",
       "    </tr>\n",
       "    <tr>\n",
       "      <th>2020-01-06</th>\n",
       "      <td>72.487846</td>\n",
       "      <td>72.526533</td>\n",
       "      <td>70.783248</td>\n",
       "      <td>71.034709</td>\n",
       "      <td>118387200</td>\n",
       "    </tr>\n",
       "    <tr>\n",
       "      <th>2020-01-07</th>\n",
       "      <td>72.146919</td>\n",
       "      <td>72.753800</td>\n",
       "      <td>71.926892</td>\n",
       "      <td>72.497506</td>\n",
       "      <td>108872000</td>\n",
       "    </tr>\n",
       "    <tr>\n",
       "      <th>2020-01-08</th>\n",
       "      <td>73.307518</td>\n",
       "      <td>73.609752</td>\n",
       "      <td>71.849540</td>\n",
       "      <td>71.849540</td>\n",
       "      <td>132079200</td>\n",
       "    </tr>\n",
       "  </tbody>\n",
       "</table>\n",
       "</div>"
      ],
      "text/plain": [
       "Price           Close       High        Low       Open     Volume\n",
       "Ticker           AAPL       AAPL       AAPL       AAPL       AAPL\n",
       "Date                                                             \n",
       "2020-01-02  72.620842  72.681289  71.373218  71.627092  135480400\n",
       "2020-01-03  71.914833  72.676462  71.689973  71.847133  146322800\n",
       "2020-01-06  72.487846  72.526533  70.783248  71.034709  118387200\n",
       "2020-01-07  72.146919  72.753800  71.926892  72.497506  108872000\n",
       "2020-01-08  73.307518  73.609752  71.849540  71.849540  132079200"
      ]
     },
     "execution_count": 4,
     "metadata": {},
     "output_type": "execute_result"
    }
   ],
   "source": [
    "df.head()"
   ]
  },
  {
   "cell_type": "code",
   "execution_count": 5,
   "id": "17a29cb2",
   "metadata": {},
   "outputs": [],
   "source": [
    "import calplot"
   ]
  },
  {
   "cell_type": "code",
   "execution_count": null,
   "id": "c1526096",
   "metadata": {},
   "outputs": [],
   "source": [
    "calplot.calplot(df[\"Close\"], cmap=\"False\")"
   ]
  }
 ],
 "metadata": {
  "kernelspec": {
   "display_name": "quant-finance-progs-AP59VnVU-py3.13",
   "language": "python",
   "name": "python3"
  },
  "language_info": {
   "codemirror_mode": {
    "name": "ipython",
    "version": 3
   },
   "file_extension": ".py",
   "mimetype": "text/x-python",
   "name": "python",
   "nbconvert_exporter": "python",
   "pygments_lexer": "ipython3",
   "version": "3.13.4"
  }
 },
 "nbformat": 4,
 "nbformat_minor": 5
}
